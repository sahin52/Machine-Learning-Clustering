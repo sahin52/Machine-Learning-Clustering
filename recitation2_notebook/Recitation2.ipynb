{
 "cells": [
  {
   "cell_type": "markdown",
   "metadata": {},
   "source": [
    "# Why numpy?"
   ]
  },
  {
   "cell_type": "code",
   "execution_count": 4,
   "metadata": {},
   "outputs": [
    {
     "name": "stdout",
     "output_type": "stream",
     "text": [
      "0.25675058364868164\n"
     ]
    }
   ],
   "source": [
    "import random\n",
    "import time\n",
    "n = 1000\n",
    "L = [[random.randint(-100, 100) for j in range(n)] for i in range(n)]\n",
    "R = [[0 for j in range(n)] for i in range(n)]\n",
    "start = time.time()\n",
    "for i in range(n):\n",
    "    for j in range(n):\n",
    "        if L[i][j] > 0:\n",
    "            R[i][j] = 1\n",
    "end = time.time()\n",
    "print(end-start)"
   ]
  },
  {
   "cell_type": "code",
   "execution_count": 6,
   "metadata": {},
   "outputs": [
    {
     "name": "stdout",
     "output_type": "stream",
     "text": [
      "0.001504659652709961\n"
     ]
    }
   ],
   "source": [
    "import numpy as np\n",
    "x = np.random.randn(n, n)\n",
    "start = time.time()\n",
    "y = x > 0\n",
    "end = time.time()\n",
    "print(end-start)"
   ]
  },
  {
   "cell_type": "markdown",
   "metadata": {},
   "source": [
    "# Some operations"
   ]
  },
  {
   "cell_type": "code",
   "execution_count": 11,
   "metadata": {},
   "outputs": [
    {
     "name": "stdout",
     "output_type": "stream",
     "text": [
      "[[1 2 3]\n",
      " [4 5 6]\n",
      " [7 8 9]]\n",
      "(3, 3)\n"
     ]
    }
   ],
   "source": [
    "x = np.asarray([[1,2,3], [4,5,6], [7,8,9]])\n",
    "print(x)\n",
    "print(x.shape)"
   ]
  },
  {
   "cell_type": "code",
   "execution_count": 14,
   "metadata": {},
   "outputs": [
    {
     "name": "stdout",
     "output_type": "stream",
     "text": [
      "[[1. 1. 1. 1. 1.]\n",
      " [1. 1. 1. 1. 1.]\n",
      " [1. 1. 1. 1. 1.]\n",
      " [1. 1. 1. 1. 1.]]\n",
      "[[0. 0. 0. 0. 0.]\n",
      " [0. 0. 0. 0. 0.]\n",
      " [0. 0. 0. 0. 0.]\n",
      " [0. 0. 0. 0. 0.]]\n",
      "[[ 0.10633243 -1.78232333  0.1349373   1.02031236 -0.25166434]\n",
      " [ 0.85123763 -1.47319228 -0.69505083 -0.67403302 -0.86770944]\n",
      " [-0.35037121  1.70067798  1.46290032 -0.18289821 -0.60443194]\n",
      " [-0.84019799 -0.30415927  0.08460749 -0.77508384  1.04389576]]\n"
     ]
    }
   ],
   "source": [
    "print(np.ones((4, 5)))\n",
    "print(np.zeros((4, 5)))\n",
    "print(np.random.randn(4, 5))"
   ]
  },
  {
   "cell_type": "code",
   "execution_count": 18,
   "metadata": {},
   "outputs": [
    {
     "name": "stdout",
     "output_type": "stream",
     "text": [
      "[[1 2 3]\n",
      " [4 5 6]\n",
      " [7 8 9]]\n",
      "[7 8 9]\n",
      "[2 5 8]\n",
      "8\n"
     ]
    }
   ],
   "source": [
    "print(x)\n",
    "print(x[2])\n",
    "print(x[:, 1])\n",
    "print(x[2, 1])"
   ]
  },
  {
   "cell_type": "code",
   "execution_count": 25,
   "metadata": {},
   "outputs": [
    {
     "name": "stdout",
     "output_type": "stream",
     "text": [
      "<class 'numpy.ndarray'>\n",
      "<class 'numpy.int64'>\n",
      "<class 'numpy.float64'>\n",
      "<class 'numpy.uint8'>\n"
     ]
    }
   ],
   "source": [
    "x = np.asarray([[1,2,3], [4,5,6], [7,8,9]])\n",
    "print(type(x))\n",
    "print(type(x[1, 1]))\n",
    "x = x.astype(float)\n",
    "print(type(x[1, 1]))\n",
    "x = x.astype(np.uint8)\n",
    "print(type(x[1, 1]))"
   ]
  },
  {
   "cell_type": "code",
   "execution_count": 29,
   "metadata": {},
   "outputs": [
    {
     "name": "stdout",
     "output_type": "stream",
     "text": [
      "[[1 2 3]\n",
      " [4 5 6]\n",
      " [7 8 9]]\n",
      "45\n",
      "[ 6 15 24]\n",
      "[12 15 18]\n"
     ]
    }
   ],
   "source": [
    "print(x)\n",
    "print(np.sum(x))\n",
    "print(np.sum(x, axis=1))\n",
    "print(np.sum(x, axis=0))"
   ]
  },
  {
   "cell_type": "code",
   "execution_count": 31,
   "metadata": {},
   "outputs": [
    {
     "name": "stdout",
     "output_type": "stream",
     "text": [
      "[[ 6  7  8]\n",
      " [ 9 10 11]\n",
      " [12 13 14]]\n",
      "[[252 253 254]\n",
      " [255   0   1]\n",
      " [  2   3   4]]\n"
     ]
    }
   ],
   "source": [
    "print(x+5)\n",
    "print(x-5)"
   ]
  },
  {
   "cell_type": "code",
   "execution_count": 33,
   "metadata": {},
   "outputs": [
    {
     "name": "stdout",
     "output_type": "stream",
     "text": [
      "(3,)\n",
      "[[  2  12 103]\n",
      " [  5  15 106]\n",
      " [  8  18 109]]\n"
     ]
    }
   ],
   "source": [
    "y = np.asarray([1, 10, 100])\n",
    "print(y.shape)\n",
    "print(x+y)"
   ]
  },
  {
   "cell_type": "code",
   "execution_count": 36,
   "metadata": {},
   "outputs": [
    {
     "name": "stdout",
     "output_type": "stream",
     "text": [
      "(3, 1)\n",
      "[[  2   3   4]\n",
      " [ 14  15  16]\n",
      " [107 108 109]]\n"
     ]
    }
   ],
   "source": [
    "z = np.asarray([1, 10, 100])\n",
    "z = np.expand_dims(z, axis=1)\n",
    "print(z.shape)\n",
    "print(x+z)"
   ]
  },
  {
   "cell_type": "code",
   "execution_count": 39,
   "metadata": {},
   "outputs": [
    {
     "name": "stdout",
     "output_type": "stream",
     "text": [
      "[[321]\n",
      " [654]\n",
      " [987]]\n"
     ]
    }
   ],
   "source": [
    "print(np.matmul(x, z))"
   ]
  },
  {
   "cell_type": "code",
   "execution_count": 42,
   "metadata": {},
   "outputs": [
    {
     "name": "stdout",
     "output_type": "stream",
     "text": [
      "[[False  True]\n",
      " [ True  True]\n",
      " [False False]\n",
      " [ True False]\n",
      " [False False]\n",
      " [False False]\n",
      " [False False]\n",
      " [ True False]\n",
      " [False False]\n",
      " [False False]\n",
      " [False False]\n",
      " [ True False]\n",
      " [ True False]\n",
      " [ True False]\n",
      " [False False]\n",
      " [False False]\n",
      " [ True False]\n",
      " [False  True]\n",
      " [False  True]\n",
      " [False  True]]\n",
      "[[0 1]\n",
      " [1 1]\n",
      " [0 0]\n",
      " [1 0]\n",
      " [0 0]\n",
      " [0 0]\n",
      " [0 0]\n",
      " [1 0]\n",
      " [0 0]\n",
      " [0 0]\n",
      " [0 0]\n",
      " [1 0]\n",
      " [1 0]\n",
      " [1 0]\n",
      " [0 0]\n",
      " [0 0]\n",
      " [1 0]\n",
      " [0 1]\n",
      " [0 1]\n",
      " [0 1]]\n"
     ]
    }
   ],
   "source": [
    "x = np.random.randn(20, 2)\n",
    "print(x>0)\n",
    "print((x>0).astype(int))"
   ]
  },
  {
   "cell_type": "code",
   "execution_count": 45,
   "metadata": {},
   "outputs": [
    {
     "name": "stdout",
     "output_type": "stream",
     "text": [
      "[0 1 2 3 4]\n",
      "[2 3 4]\n",
      "[0 2 4]\n"
     ]
    }
   ],
   "source": [
    "print(np.arange(5))\n",
    "print(np.arange(2, 5))\n",
    "print(np.arange(0, 5, 2))"
   ]
  },
  {
   "cell_type": "markdown",
   "metadata": {},
   "source": [
    "# Indexing"
   ]
  },
  {
   "cell_type": "code",
   "execution_count": 46,
   "metadata": {},
   "outputs": [
    {
     "name": "stdout",
     "output_type": "stream",
     "text": [
      "[[-0.90467987  1.30154132]\n",
      " [ 0.27766968  2.29477386]\n",
      " [-0.25488504 -1.26208701]\n",
      " [ 1.24016783 -0.04577323]\n",
      " [-0.41074417 -0.31766781]\n",
      " [-0.44396548 -1.66829364]\n",
      " [-1.41073741 -0.6003857 ]\n",
      " [ 1.8745936  -0.38308515]\n",
      " [-0.73119039 -1.03931567]\n",
      " [-0.90803739 -0.86970567]\n",
      " [-0.59062037 -0.1019432 ]\n",
      " [ 0.33864928 -0.22725429]\n",
      " [ 0.43619464 -0.55989725]\n",
      " [ 0.82154862 -0.86105457]\n",
      " [-0.71737713 -0.05431562]\n",
      " [-1.74854536 -0.15146811]\n",
      " [ 0.73867621 -0.89201667]\n",
      " [-0.00943246  2.52012504]\n",
      " [-0.16637227  0.58889564]\n",
      " [-1.59375706  0.24829475]]\n"
     ]
    }
   ],
   "source": [
    "print(x)"
   ]
  },
  {
   "cell_type": "code",
   "execution_count": 49,
   "metadata": {},
   "outputs": [
    {
     "name": "stdout",
     "output_type": "stream",
     "text": [
      "[[ 0.27766968  2.29477386]\n",
      " [-0.25488504 -1.26208701]\n",
      " [ 0.27766968  2.29477386]]\n",
      "[[ 0.27766968  2.29477386]\n",
      " [-0.25488504 -1.26208701]\n",
      " [ 0.27766968  2.29477386]]\n",
      "[ 0.27766968 -1.26208701  2.29477386]\n"
     ]
    }
   ],
   "source": [
    "print(x[[1, 2, 1]])\n",
    "print(x[np.asarray([1, 2, 1])])\n",
    "print(x[[1, 2, 1], [0, 1, 1]])"
   ]
  },
  {
   "cell_type": "code",
   "execution_count": 52,
   "metadata": {},
   "outputs": [
    {
     "name": "stdout",
     "output_type": "stream",
     "text": [
      "[False  True  True False  True  True  True False  True  True  True False\n",
      " False False  True  True False False False False]\n",
      "[[ 0.27766968  2.29477386]\n",
      " [-0.25488504 -1.26208701]\n",
      " [-0.41074417 -0.31766781]\n",
      " [-0.44396548 -1.66829364]\n",
      " [-1.41073741 -0.6003857 ]\n",
      " [-0.73119039 -1.03931567]\n",
      " [-0.90803739 -0.86970567]\n",
      " [-0.59062037 -0.1019432 ]\n",
      " [-0.71737713 -0.05431562]\n",
      " [-1.74854536 -0.15146811]]\n"
     ]
    }
   ],
   "source": [
    "print((x[:, 0] * x[:, 1]) > 0)\n",
    "boolean_indices = (x[:, 0] * x[:, 1]) > 0\n",
    "print(x[boolean_indices])"
   ]
  },
  {
   "cell_type": "code",
   "execution_count": 53,
   "metadata": {},
   "outputs": [
    {
     "name": "stdout",
     "output_type": "stream",
     "text": [
      "[ True  True False False False  True]\n"
     ]
    }
   ],
   "source": [
    "labels = np.array([1, 1, 2, 3, 2, 1])\n",
    "print(labels==1)"
   ]
  },
  {
   "cell_type": "markdown",
   "metadata": {},
   "source": [
    "# Plotting"
   ]
  },
  {
   "cell_type": "code",
   "execution_count": 54,
   "metadata": {},
   "outputs": [],
   "source": [
    "import matplotlib.pyplot as plt"
   ]
  },
  {
   "cell_type": "code",
   "execution_count": 56,
   "metadata": {},
   "outputs": [
    {
     "data": {
      "image/png": "[encoded data removed]",
      "text/plain": [
       "<Figure size 432x288 with 1 Axes>"
      ]
     },
     "metadata": {
      "needs_background": "light"
     },
     "output_type": "display_data"
    }
   ],
   "source": [
    "plt.plot(x[:, 0], x[:, 1], 'o')\n",
    "plt.show()"
   ]
  },
  {
   "cell_type": "code",
   "execution_count": 59,
   "metadata": {},
   "outputs": [
    {
     "data": {
      "image/png": "[encoded data removed]",
      "text/plain": [
       "<Figure size 432x288 with 1 Axes>"
      ]
     },
     "metadata": {
      "needs_background": "light"
     },
     "output_type": "display_data"
    }
   ],
   "source": [
    "x = np.random.randn(500, 2)\n",
    "boolean_indices = (x[:, 0] * x[:, 1]) > 0\n",
    "positives = x[boolean_indices]\n",
    "negatives = x[~boolean_indices]\n",
    "plt.plot(positives[:, 0], positives[:, 1], 'or')\n",
    "plt.plot(negatives[:, 0], negatives[:, 1], 'ok')\n",
    "plt.show()"
   ]
  },
  {
   "cell_type": "code",
   "execution_count": null,
   "metadata": {},
   "outputs": [],
   "source": []
  }
 ],
 "metadata": {
  "kernelspec": {
   "display_name": "Python 3",
   "language": "python",
   "name": "python3"
  },
  "language_info": {
   "codemirror_mode": {
    "name": "ipython",
    "version": 3
   },
   "file_extension": ".py",
   "mimetype": "text/x-python",
   "name": "python",
   "nbconvert_exporter": "python",
   "pygments_lexer": "ipython3",
   "version": "3.8.5"
  }
 },
 "nbformat": 4,
 "nbformat_minor": 4
}
