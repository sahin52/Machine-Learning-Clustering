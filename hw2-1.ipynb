{
 "cells": [
  {
   "cell_type": "code",
   "execution_count": 6,
   "metadata": {},
   "outputs": [],
   "source": [
    "import numpy as np"
   ]
  },
  {
   "cell_type": "code",
   "execution_count": 5,
   "metadata": {},
   "outputs": [
    {
     "name": "stdout",
     "output_type": "stream",
     "text": [
      "K-nearest neighbor\n"
     ]
    }
   ],
   "source": [
    "print(\"K-nearest neighbor\")"
   ]
  },
  {
   "cell_type": "code",
   "execution_count": 14,
   "metadata": {},
   "outputs": [
    {
     "data": {
      "text/plain": [
       "array([5.6, 2.9, 3.6, 1.3])"
      ]
     },
     "execution_count": 14,
     "metadata": {},
     "output_type": "execute_result"
    }
   ],
   "source": [
    "train_data=np.load('hw2_data/knn/train_data.npy')\n",
    "train_data[0]"
   ]
  },
  {
   "cell_type": "code",
   "execution_count": 15,
   "metadata": {},
   "outputs": [
    {
     "data": {
      "text/plain": [
       "250"
      ]
     },
     "execution_count": 15,
     "metadata": {},
     "output_type": "execute_result"
    }
   ],
   "source": [
    "len(train_data)"
   ]
  },
  {
   "cell_type": "code",
   "execution_count": 21,
   "metadata": {},
   "outputs": [
    {
     "name": "stdout",
     "output_type": "stream",
     "text": [
      "250\n"
     ]
    },
    {
     "data": {
      "text/plain": [
       "array([1, 2, 1, 1, 1, 2, 1, 1, 1, 0, 2, 0, 1, 0, 1, 0, 1, 2, 1, 0, 1, 2,\n",
       "       0, 1, 1, 1, 1, 1, 2, 2, 1, 0, 0, 1, 2, 2, 0, 2, 0, 0, 2, 2, 0, 2,\n",
       "       1, 0, 2, 0, 2, 2, 0, 1, 1, 1, 2, 1, 2, 2, 1, 2, 1, 2, 1, 1, 0, 0,\n",
       "       2, 2, 0, 2, 0, 0, 2, 2, 0, 2, 2, 0, 2, 1, 1, 1, 1, 1, 1, 0, 1, 1,\n",
       "       2, 0, 1, 0, 0, 1, 1, 2, 0, 1, 1, 2, 2, 0, 2, 0, 0, 2, 0, 0, 2, 0,\n",
       "       2, 0, 2, 2, 1, 0, 0, 1, 1, 0, 2, 1, 1, 1, 1, 2, 1, 1, 1, 2, 1, 0,\n",
       "       1, 2, 2, 2, 0, 2, 1, 0, 0, 1, 0, 0, 0, 0, 1, 2, 2, 2, 2, 2, 0, 0,\n",
       "       1, 0, 0, 0, 2, 0, 2, 0, 0, 0, 1, 2, 2, 0, 2, 1, 1, 0, 1, 0, 2, 1,\n",
       "       0, 1, 0, 1, 2, 0, 0, 1, 1, 2, 0, 1, 0, 1, 2, 0, 1, 1, 2, 1, 0, 2,\n",
       "       0, 0, 2, 2, 0, 2, 0, 0, 1, 1, 2, 1, 2, 2, 2, 1, 1, 2, 2, 2, 2, 0,\n",
       "       0, 1, 0, 1, 1, 0, 1, 1, 1, 1, 2, 1, 0, 2, 0, 1, 1, 2, 1, 1, 1, 0,\n",
       "       2, 0, 1, 1, 0, 2, 0, 1])"
      ]
     },
     "execution_count": 21,
     "metadata": {},
     "output_type": "execute_result"
    }
   ],
   "source": [
    "train_labels = np.load('hw2_data/knn/train_labels.npy')\n",
    "print(len(train_labels))\n",
    "train_labels"
   ]
  },
  {
   "cell_type": "code",
   "execution_count": 24,
   "metadata": {},
   "outputs": [
    {
     "name": "stdout",
     "output_type": "stream",
     "text": [
      "200\n"
     ]
    },
    {
     "data": {
      "text/plain": [
       "array([ 2.58965953,  2.96278592, -0.11994302, -0.06988396])"
      ]
     },
     "execution_count": 24,
     "metadata": {},
     "output_type": "execute_result"
    }
   ],
   "source": [
    "test_data = np.load('hw2_data/knn/test_data.npy')\n",
    "print(len(test_data))\n",
    "test_data[0]"
   ]
  },
  {
   "cell_type": "code",
   "execution_count": 25,
   "metadata": {},
   "outputs": [
    {
     "data": {
      "text/plain": [
       "array([0, 1, 1, 2, 0, 0, 0, 1, 2, 0, 1, 0, 2, 2, 1, 0, 0, 1, 1, 1, 0, 0,\n",
       "       0, 2, 2, 0, 2, 2, 2, 0, 0, 1, 1, 1, 1, 1, 2, 1, 0, 1, 1, 2, 2, 1,\n",
       "       1, 0, 1, 1, 2, 1, 2, 2, 1, 1, 1, 0, 2, 2, 1, 0, 2, 0, 0, 2, 1, 0,\n",
       "       2, 0, 2, 0, 0, 2, 2, 2, 0, 0, 2, 1, 0, 1, 1, 1, 0, 2, 2, 2, 2, 0,\n",
       "       1, 2, 2, 2, 0, 2, 1, 1, 0, 1, 0, 0, 2, 0, 2, 0, 2, 2, 2, 2, 2, 0,\n",
       "       0, 0, 1, 2, 2, 1, 2, 1, 0, 2, 2, 0, 1, 1, 0, 0, 0, 2, 2, 0, 0, 0,\n",
       "       2, 0, 0, 2, 1, 1, 0, 2, 2, 2, 2, 0, 2, 1, 2, 0, 0, 2, 2, 1, 1, 2,\n",
       "       0, 1, 2, 2, 1, 2, 0, 2, 0, 1, 2, 2, 0, 0, 1, 1, 0, 0, 0, 0, 1, 0,\n",
       "       0, 0, 1, 0, 1, 2, 2, 1, 2, 1, 2, 2, 2, 0, 0, 2, 1, 1, 2, 1, 0, 0,\n",
       "       0, 1])"
      ]
     },
     "execution_count": 25,
     "metadata": {},
     "output_type": "execute_result"
    }
   ],
   "source": [
    "test_labels = np.load('hw2_data/knn/test_labels.npy')\n",
    "test_labels"
   ]
  },
  {
   "cell_type": "code",
   "execution_count": null,
   "metadata": {},
   "outputs": [],
   "source": []
  }
 ],
 "metadata": {
  "kernelspec": {
   "display_name": "Python 3",
   "language": "python",
   "name": "python3"
  },
  "language_info": {
   "codemirror_mode": {
    "name": "ipython",
    "version": 3
   },
   "file_extension": ".py",
   "mimetype": "text/x-python",
   "name": "python",
   "nbconvert_exporter": "python",
   "pygments_lexer": "ipython3",
   "version": "3.8.5"
  }
 },
 "nbformat": 4,
 "nbformat_minor": 4
}
